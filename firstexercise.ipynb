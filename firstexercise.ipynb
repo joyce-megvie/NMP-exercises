{
 "cells": [
  {
   "cell_type": "code",
   "execution_count": 6,
   "metadata": {},
   "outputs": [
    {
     "data": {
      "text/plain": [
       "113.04"
      ]
     },
     "execution_count": 6,
     "metadata": {},
     "output_type": "execute_result"
    }
   ],
   "source": [
    "PI = 3.14\n",
    "radius = input('Please enter the radius')\n",
    "area = PI * int(radius)**2\n",
    "area"
   ]
  },
  {
   "cell_type": "markdown",
   "metadata": {},
   "source": [
    "calculating area of rectangle\n"
   ]
  },
  {
   "cell_type": "code",
   "execution_count": 1,
   "metadata": {},
   "outputs": [
    {
     "data": {
      "text/plain": [
       "42"
      ]
     },
     "execution_count": 1,
     "metadata": {},
     "output_type": "execute_result"
    }
   ],
   "source": [
    "length = input(\"Enter Length of Rectangle: \")\n",
    "width = input(\"Enter width of Rectangle: \")\n",
    "area = int(length) * int(width)\n",
    "area"
   ]
  },
  {
   "cell_type": "markdown",
   "metadata": {},
   "source": [
    "area of square\n"
   ]
  },
  {
   "cell_type": "code",
   "execution_count": 2,
   "metadata": {},
   "outputs": [
    {
     "data": {
      "text/plain": [
       "25"
      ]
     },
     "execution_count": 2,
     "metadata": {},
     "output_type": "execute_result"
    }
   ],
   "source": [
    "width = input(\"Enter width of square: \")\n",
    "area =  int(width) **2\n",
    "area"
   ]
  },
  {
   "cell_type": "markdown",
   "metadata": {},
   "source": [
    "program for user to calculate the area of a choosen shape\n"
   ]
  },
  {
   "cell_type": "code",
   "execution_count": 14,
   "metadata": {},
   "outputs": [
    {
     "name": "stdout",
     "output_type": "stream",
     "text": [
      "78.5\n"
     ]
    }
   ],
   "source": [
    "shape = input(\"Enter the shape of choice: \")\n",
    "if(shape==\"square\"):\n",
    "    width = input(\"Enter width of square: \")\n",
    "    area =  int(width) **2\n",
    "    print(area)\n",
    "elif(shape==\"rectangle\"):\n",
    "    length = input(\"Enter Length of Rectangle: \")\n",
    "    width = input(\"Enter width of Rectangle: \")\n",
    "    area = int(length) * int(width)\n",
    "    print(area)\n",
    "elif(shape==\"circle\"):\n",
    "    PI = 3.14\n",
    "    radius = input('Please enter the radius')\n",
    "    area = PI * int(radius)**2\n",
    "    print(area)\n"
   ]
  },
  {
   "cell_type": "code",
   "execution_count": null,
   "metadata": {},
   "outputs": [],
   "source": []
  }
 ],
 "metadata": {
  "interpreter": {
   "hash": "0c3be2a2cabd4941ac59a2ee837ab4dacbf445340dd39987b9ddac422ca84216"
  },
  "kernelspec": {
   "display_name": "Python 3.8.8 64-bit ('base': conda)",
   "name": "python3"
  },
  "language_info": {
   "codemirror_mode": {
    "name": "ipython",
    "version": 3
   },
   "file_extension": ".py",
   "mimetype": "text/x-python",
   "name": "python",
   "nbconvert_exporter": "python",
   "pygments_lexer": "ipython3",
   "version": "3.8.8"
  },
  "orig_nbformat": 4
 },
 "nbformat": 4,
 "nbformat_minor": 2
}
